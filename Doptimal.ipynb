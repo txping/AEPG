{
 "cells": [
  {
   "cell_type": "code",
   "execution_count": 1,
   "metadata": {},
   "outputs": [],
   "source": [
    "import numpy\n",
    "import autograd.numpy as np\n",
    "np.set_printoptions(precision=4)\n",
    "import matplotlib.pyplot as plt\n",
    "from matplotlib.patches import Ellipse\n",
    "from autograd import grad\n",
    "from scipy.optimize import minimize\n",
    "import time\n",
    "import math\n",
    "import cvxpy as cp\n",
    "from matplotlib.colors import LogNorm\n",
    "from numpy import linalg as LA\n",
    "from scipy.stats import gmean\n",
    "import cvxopt as cvx\n",
    "import picos"
   ]
  },
  {
   "cell_type": "markdown",
   "metadata": {},
   "source": [
    "# D-optimal design problem\n",
    "\n",
    "\\begin{align}\n",
    "\\min_{\\theta}\\quad & L(\\theta):=-\\ln\\det \\left(\\sum_{i=1}^{n}\\theta_iu_iu_i^{\\top}\\right), \\\\\n",
    "\\text{s.t.} \\quad & \\sum_{i=1}^{n}\\theta_i=1\\quad \\text{and}\\quad \\theta_i\\geq0,\\quad i\\in[n].\n",
    "\\end{align}\n",
    "\n",
    "This note shows how to solve this problem using four different methods: \n",
    "- AEPG (Adaptive Preconditioned Gradient with Energy), \n",
    "- Interior Point method, \n",
    "- Frank-Wolfe method\n",
    "- Frank-Wolfe away method."
   ]
  },
  {
   "cell_type": "code",
   "execution_count": 2,
   "metadata": {},
   "outputs": [],
   "source": [
    "def D_optimal_func(x):\n",
    "    # x is an numpy array of dimension n\n",
    "    V = np.dot(Q*x, Q.T)\n",
    "    f = -np.log(np.linalg.det(V))\n",
    "    \n",
    "    H = np.linalg.inv(V)\n",
    "    df =  - np.sum(Q * np.dot(H, Q), axis=0)\n",
    "    return f, df\n",
    "\n",
    "def mvee(x):\n",
    "    # x is the solution to the D-optimal design problem\n",
    "    m = Q.shape[0]\n",
    "    X = np.diag(x).astype(float)\n",
    "    M = np.dot(np.dot(Q,X),np.transpose(Q))\n",
    "    H = np.linalg.inv(M)\n",
    "    return np.linalg.det(M)**(-1/2)*math.pi**(m/2)/math.gamma(m/2 + 1)"
   ]
  },
  {
   "cell_type": "code",
   "execution_count": 3,
   "metadata": {},
   "outputs": [],
   "source": [
    "def ngd(x, r, func, p):\n",
    "    eta = p['eta']\n",
    "    f, df = func(x)\n",
    "    \n",
    "    #_A = inv_A(Hf,B,x)\n",
    "    _A = np.diag(x) - np.outer(x,x)\n",
    "    ndf = _A.dot(df)\n",
    "    _x = x - eta*ndf\n",
    "        \n",
    "    _f, _df = func(_x)\n",
    "    return _f, _x, r\n",
    "\n",
    "def aeng(x, r, func, p):\n",
    "    # H is a function of x\n",
    "    # B is a constant matrix\n",
    "    eta = p['eta']\n",
    "    c = p['c']\n",
    "    \n",
    "    f, df = func(x)\n",
    "    dg = df / (2*np.sqrt(f+c))\n",
    "    \n",
    "    #_A = inv_A(Hf,B,x)\n",
    "    _A = np.diag(x) - np.outer(x,x)\n",
    "    ndg = _A.dot(dg)\n",
    "    _r = r / (1+2*eta*ndg*ndg)\n",
    "    _x = x - 2 * eta * _r * ndg\n",
    "        \n",
    "    _f, _df = func(_x)\n",
    "    return _f, _x, _r"
   ]
  },
  {
   "cell_type": "code",
   "execution_count": 4,
   "metadata": {},
   "outputs": [],
   "source": [
    "def runner(x0, func, minf, optim, p):\n",
    "    start_time = time.time()\n",
    "\n",
    "    x = np.copy(x0)\n",
    "    r = np.sqrt(func(x0)[0]+p['c']) * np.ones_like(x0) \n",
    "    res = dict(fs=[func(x0)[0]], ts=[0])\n",
    "    fs, ts = res['fs'], res['ts']\n",
    "    \n",
    "    #print('[{:4}], f: {:.4e}, x:{}'.format(0, fs[-1], 1, xs[-1]))\n",
    "    \n",
    "    for k in range(p['maxiter']):\n",
    "        f, x, r = optim(x, r, func, p)\n",
    "        t = time.time() - start_time\n",
    "        \n",
    "        fs.append(f)\n",
    "        ts.append(t)\n",
    "        \n",
    "        if abs(fs[-1]-minf) < p['tol']:\n",
    "            break\n",
    "\n",
    "        if p['verbose'] and k % p['gap'] == 0:\n",
    "            print('[{:4}], f: {:.4e}, t:{:.4f}'.format(k, f, t))\n",
    "    \n",
    "    if p['verbose']:\n",
    "        print('------------------')\n",
    "        print('iterations: {}'.format(k-1))\n",
    "        print('solution time: {:.4f}s'.format(t))\n",
    "        print('current function value: {}'.format(fs[-1]))\n",
    "    #print('current parameter value: {}'.format(xs[-1]))\n",
    "        \n",
    "    return res"
   ]
  },
  {
   "cell_type": "markdown",
   "metadata": {},
   "source": [
    "The code below for implementing the FW methods to solve the D-optimal design problems is based on this [github repository](https://github.com/microsoft/accbpg). \n",
    "\n",
    "For details on applying the FW method to solve the D-optimal design problem, we refer the readers to the book [Conditional Gradient Methods](https://arxiv.org/pdf/2211.14103.pdf) Chapter 5.2.7."
   ]
  },
  {
   "cell_type": "code",
   "execution_count": 5,
   "metadata": {},
   "outputs": [],
   "source": [
    "def D_opt_FW(V, x0, minf, eps, maxitrs, verbose=True, verbskip=1):\n",
    "    \"\"\"\n",
    "    Solve the D-optimal design problem by the Frank-Wolfe algorithm\n",
    "        minimize     - log(det(V*diag(x)*V'))\n",
    "        subject to   x >= 0  and sum_i x_i=1\n",
    "    where V is m by n matrix and x belongs to n-dimensional simplex\n",
    "    Inputs:\n",
    "        V:  matrix of size m by n with m < n\n",
    "        x0: initial point\n",
    "        eps: precision for optimality conditions (complementary slackness)\n",
    "        maxitrs: maximum number of iterations\n",
    "        verbose:  display computational progress (True or False)\n",
    "        verbskip: number of iterations to skip between displays\n",
    "    Returns (x, F, SP, SN, T):\n",
    "        x:  the last iterate of BPG\n",
    "        F:  array storing F(x[k]) for all k\n",
    "        SP: positive slackness\n",
    "        SN: negative slackness\n",
    "        T:  array storing time used up to iteration k\n",
    "    \"\"\"\n",
    "    start_time = time.time()\n",
    "    \n",
    "    m, n = V.shape\n",
    "    F = np.zeros(maxitrs)\n",
    "    T = np.zeros(maxitrs)\n",
    "\n",
    "    x = np.copy(x0)\n",
    "    VXVT = np.dot(V*x, V.T)\n",
    "    detVXVT = np.linalg.det(VXVT)\n",
    "    H = np.linalg.inv(VXVT)\n",
    "\n",
    "    # compute w = - gradient # This step cost m^2*n\n",
    "    w = np.sum(V * np.dot(H, V), axis=0)\n",
    "\n",
    "    for k in range(maxitrs):\n",
    "        F[k] = - np.log(detVXVT)\n",
    "        T[k] = time.time() - start_time\n",
    "\n",
    "        # compute w = - gradient # This step cost m^2*n\n",
    "        # w = np.sum(V * np.dot(H, V), axis=0)\n",
    "        \n",
    "        # check approximate optimality conditions        \n",
    "        i = np.argmax(w)\n",
    "\n",
    "        if verbose and k % verbskip == 0:\n",
    "            print('[{:4}]  f:{:.4e}  t:{:.4f}'.format(k, F[k], T[k]))\n",
    "        \n",
    "        if abs(F[k]-minf) < eps:\n",
    "            break\n",
    "            \n",
    "        t = (w[i] / m - 1) / (w[i] - 1)\n",
    "        x *= (1 - t)\n",
    "        x[i] += t  \n",
    "                \n",
    "        HVi = np.dot(H, V[:,i])\n",
    "        H = (H - (t / (1 + t * (w[i] - 1))) * np.outer(HVi, HVi)) / (1 - t)\n",
    "        detVXVT *= np.power(1 - t, m - 1) * (1 + t * (w[i] - 1)) \n",
    "        # compute w more efficiently # This step cost m*n\n",
    "        w = (w - (t / (1 + t * (w[i] - 1))) * np.dot(HVi, V)**2 ) / (1 - t)\n",
    "   \n",
    "    F = F[0:k+1]\n",
    "    T = T[0:k+1]\n",
    "    \n",
    "    res = dict(fs=F, ts=T)\n",
    "    \n",
    "    if verbose:\n",
    "        print('------------------')\n",
    "        print('iterations: {}'.format(k-1))\n",
    "        print('solution time: {:.4f}s'.format(T[-1]))\n",
    "        print('current function value: {}'.format(F[-1]))\n",
    "    return res"
   ]
  },
  {
   "cell_type": "code",
   "execution_count": 6,
   "metadata": {},
   "outputs": [],
   "source": [
    "def D_opt_FW_away(V, x0, minf, eps, maxitrs, verbose=True, verbskip=1):\n",
    "    \"\"\"\n",
    "    Solve the D-optimal design problem by Frank-Wolfe (Wolfe-Atwood) algorithm\n",
    "        minimize     - log(det(V*diag(x)*V'))\n",
    "        subject to   x >= 0  and sum_i x_i=1\n",
    "    where V is m by n matrix and x belongs to n-dimensional simplex.\n",
    "    \n",
    "    This is equivalent to the Frank-Wolfe algorithm with Away steps.\n",
    "    Inputs:\n",
    "        V:  matrix of size m by n with m < n\n",
    "        x0: initial point\n",
    "        eps: precision for optimality conditions (complementary slackness)\n",
    "        maxitrs: maximum number of iterations\n",
    "        verbose:  display computational progress (True or False)\n",
    "        verbskip: number of iterations to skip between displays\n",
    "    Returns (x, F, SP, SN, T):\n",
    "        x:  the last iterate of BPG\n",
    "        F:  array storing F(x[k]) for all k\n",
    "        SP: positive slackness\n",
    "        SN: negative slackness\n",
    "        T:  array storing time used up to iteration k\n",
    "    \"\"\"\n",
    "    start_time = time.time()\n",
    "\n",
    "    m, n = V.shape\n",
    "    F = np.zeros(maxitrs)\n",
    "    SP = np.zeros(maxitrs)\n",
    "    SN = np.zeros(maxitrs)\n",
    "    T = np.zeros(maxitrs)\n",
    "\n",
    "    x = np.copy(x0)\n",
    "    VXVT = np.dot(V*x, V.T)\n",
    "    detVXVT = np.linalg.det(VXVT)\n",
    "    H = np.linalg.inv(VXVT)\n",
    "\n",
    "    # compute w = - gradient # This step cost m^2*n\n",
    "    w = np.sum(V * np.dot(H, V), axis=0)\n",
    "\n",
    "    if verbose:\n",
    "        print(\"\\nSolving D-opt design problem using Frank-Wolfe method with away steps\")\n",
    "        print(\"     k      F(x)     pos_slack   neg_slack    time\")\n",
    "        \n",
    "    for k in range(maxitrs):\n",
    "        F[k] = np.log(np.linalg.det(H))\n",
    "        # the following can be much faster but often inaccurate!\n",
    "        #F[k] = - np.log(detVXVT)\n",
    "        T[k] = time.time() - start_time\n",
    "\n",
    "        # compute w = - gradient # This step cost m^2*n\n",
    "        #w = np.sum(V * np.dot(H, V), axis=0)\n",
    "\n",
    "        # check approximate optimality conditions        \n",
    "        i = np.argmax(w)\n",
    "        ww = w - w[i]   # shift the array so that ww.max() = 0\n",
    "        j = np.argmin(ww * [x > 1.0e-8])\n",
    "        #j = np.argmin(ww * [x > 0])\n",
    "\n",
    "        eps_pos = w[i] / m - 1\n",
    "        eps_neg = 1 - w[j] / m\n",
    "        SP[k] = eps_pos\n",
    "        SN[k] = eps_neg\n",
    "   \n",
    "        if verbose and k % verbskip == 0:\n",
    "            print(\"{0:6d}  {1:10.4e}  {2:10.3e}  {3:10.3e}  {4:6.1f}\".format(\n",
    "                    k, F[k], eps_pos, eps_neg, T[k]))\n",
    "\n",
    "        #if eps_pos <= eps and eps_neg <= eps:\n",
    "        #    break\n",
    "        \n",
    "        if abs(F[k]-minf) < eps:\n",
    "            break\n",
    "            \n",
    "        if eps_pos >= eps_neg:\n",
    "            t = (w[i] / m - 1) / (w[i] - 1)\n",
    "            x *= (1 - t)\n",
    "            x[i] += t\n",
    "            HVi = np.dot(H, V[:,i])\n",
    "            H = (H - (t / (1 - t + t * w[i])) * np.outer(HVi, HVi)) / (1 - t)\n",
    "            detVXVT *= np.power(1 - t, m - 1) * (1 + t * (w[i] - 1)) \n",
    "            # compute w more efficiently # This step cost m*n\n",
    "            w = (w - (t / (1 - t + t * w[i])) * np.dot(HVi, V)**2 ) / (1 - t)\n",
    "        else: # Wolfe's awaystep\n",
    "            t = min((1 - w[j] / m) / (w[j] - 1), x[j] / (1 - x[j]))\n",
    "            x *= (1 + t)\n",
    "            x[j] -= t\n",
    "            HVj = np.dot(H, V[:,j])\n",
    "            H = (H + (t / (1 + t - t * w[j])) * np.outer(HVj, HVj)) / (1 + t)\n",
    "            detVXVT *= np.power(1 + t, m - 1) * (1 + t - t * w[i]) \n",
    "            # compute w more efficiently # This step cost m*n\n",
    "            w = (w + (t / (1 + t - t * w[j])) * np.dot(HVj, V)**2 ) / (1 + t)\n",
    "\n",
    "    F = F[0:k+1]\n",
    "    SP = SP[0:k+1]\n",
    "    SN = SN[0:k+1]\n",
    "    T = T[0:k+1]\n",
    "    \n",
    "    res = dict(fs=F, ts=T)\n",
    "    \n",
    "    if verbose:\n",
    "        print('------------------')\n",
    "        print('iterations: {}'.format(k-1))\n",
    "        print('solution time: {:.4f}s'.format(T[-1]))\n",
    "        print('current function value: {}'.format(F[-1]))\n",
    "        \n",
    "    return res"
   ]
  },
  {
   "cell_type": "markdown",
   "metadata": {},
   "source": [
    "# Generate dataset"
   ]
  },
  {
   "cell_type": "code",
   "execution_count": 72,
   "metadata": {},
   "outputs": [],
   "source": [
    "n, m = 1000, 300   # n test vectors of dimension m\n",
    "x0 = 1/n*np.ones(n) # initial point"
   ]
  },
  {
   "cell_type": "markdown",
   "metadata": {},
   "source": [
    "## 1. Generate new dataset"
   ]
  },
  {
   "cell_type": "code",
   "execution_count": 57,
   "metadata": {},
   "outputs": [],
   "source": [
    "mean = np.zeros(m)\n",
    "cov = np.identity(m)\n",
    "B_D = np.ones((1,n))\n",
    "Q = np.random.multivariate_normal(mean,cov,n).T  # shape of Q is (m, n)"
   ]
  },
  {
   "cell_type": "markdown",
   "metadata": {},
   "source": [
    "## 2. Load data used to obtain reults in the paper"
   ]
  },
  {
   "cell_type": "code",
   "execution_count": 73,
   "metadata": {},
   "outputs": [],
   "source": [
    "dd = np.load('Doptimal/D_n{}_m{}.npy'.format(n, m), allow_pickle=True)\n",
    "Q = dd.item()['args']['Q']"
   ]
  },
  {
   "cell_type": "markdown",
   "metadata": {},
   "source": [
    "## For m = 10, 30, 50, 80, 100, solve by PICOS\n",
    "\n",
    "The state of the art method for solving optimal design problems with arbitrary linear constraints was the MAXDET formulation of Vandenberghe, Boyd and Wu [42], which is in fact reformulated as an SDP (Semidefinite Programming) by PICOS:\n",
    "\n",
    "\\begin{align}\n",
    "\\max_{t\\in\\mathbb{R}, \\theta\\in\\mathbb{R}^n}\\quad & t\\\\\n",
    "\\text{s.t.} \\quad &  \\sum_{i=1}^{n}\\theta_i \\leq 1,\\quad\\text{and}\\quad \\det\\left(\\sum_{i=1}^{n}\\theta_iu_iu^\\top_i\\right)^{1/m} \\geq t.\n",
    "\\end{align}\n",
    "\n",
    "Then this SDP problem is solve by interior point method through solver [CVXOPT](https://cvxopt.org/documentation/index.html).\n",
    "\n",
    "We refer the reader to the [example section of the PICOS documentation](https://picos-api.gitlab.io/picos/optdes.html#optdes-refs) for detailed implementation."
   ]
  },
  {
   "cell_type": "code",
   "execution_count": 82,
   "metadata": {},
   "outputs": [],
   "source": [
    "D_MAXDET = picos.Problem()\n",
    "\n",
    "U = []\n",
    "for i in range(n):\n",
    "    Ui = np.outer(Q[:,i], Q[:,i])\n",
    "    U.append(cvx.matrix(Ui))\n",
    "\n",
    "UU = [picos.Constant('V[{0}]'.format(i), Ui) for i, Ui in enumerate(U)]\n",
    "w = picos.RealVariable('w', n, lower=0)\n",
    "t = picos.RealVariable('t', 1)\n",
    "\n",
    "wgt_cons = D_MAXDET.add_constraint(1|w <= 1)\n",
    "Mw = picos.sum([w[i] * UU[i] for i in range(n)])\n",
    "detrootn_cons = D_MAXDET.add_constraint(t <= picos.DetRootN(Mw))\n",
    "D_MAXDET.set_objective('max', t)"
   ]
  },
  {
   "cell_type": "code",
   "execution_count": null,
   "metadata": {},
   "outputs": [],
   "source": [
    "# For m = 10, run this cell\n",
    "solution = D_MAXDET.solve(solver='cvxopt', verbosity=1, \n",
    "                          abs_bnb_opt_tol     = 1e-04,\n",
    "                          abs_dual_fsb_tol    = 1e-04,\n",
    "                          abs_ipm_opt_tol     = 1e-05,\n",
    "                          abs_prim_fsb_tol    = 1e-05,\n",
    "                          rel_dual_fsb_tol    = 1e-05,\n",
    "                          rel_ipm_opt_tol     = 1e-05,\n",
    "                          rel_prim_fsb_tol    = 1e-05)"
   ]
  },
  {
   "cell_type": "code",
   "execution_count": 83,
   "metadata": {
    "collapsed": true,
    "jupyter": {
     "outputs_hidden": true
    }
   },
   "outputs": [
    {
     "name": "stdout",
     "output_type": "stream",
     "text": [
      "===================================\n",
      "           PICOS 2.4.17            \n",
      "===================================\n",
      "Problem type: Optimization Problem.\n",
      "Searching a solution strategy for CVXOPT.\n",
      "Solution strategy:\n",
      "  1. ExtraOptions\n",
      "  2. DetRootNReformulation\n",
      "  3. GeometricMeanToRSOCReformulation\n",
      "  4. CVXOPTSolver\n",
      "Applying ExtraOptions.\n",
      "Applying DetRootNReformulation.\n",
      "Applying GeometricMeanToRSOCReformulation.\n",
      "Building a CVXOPT problem instance.\n",
      "Starting solution search.\n",
      "-----------------------------------\n",
      " Python Convex Optimization Solver \n",
      "    via internal CONELP solver     \n",
      "-----------------------------------\n",
      "     pcost       dcost       gap    pres   dres   k/t\n",
      " 0:  0.0000e+00 -1.3333e+00  1e+03  3e+01  1e+03  1e+00\n",
      " 1: -1.1839e-01 -4.6637e-01  8e+01  5e+00  2e+02  4e-03\n",
      " 2: -1.3062e-02 -9.3728e-02  1e+01  1e+00  5e+01  2e-02\n",
      " 3: -5.2827e-02 -7.9967e-02  7e+00  6e-01  2e+01  1e-02\n",
      " 4: -3.1840e-01 -3.4083e-01  9e+00  5e-01  2e+01  1e-02\n",
      " 5: -7.3210e-01 -7.4355e-01  7e+00  3e-01  1e+01  1e-02\n",
      " 6: -9.5535e-01 -9.6476e-01  5e+00  2e-01  9e+00  6e-03\n",
      " 7: -1.1534e+00 -1.1589e+00  2e+00  1e-01  4e+00  2e-03\n",
      " 8: -1.2636e+00 -1.2650e+00  5e-01  3e-02  1e+00  4e-04\n",
      " 9: -1.3114e+00 -1.3118e+00  1e-01  8e-03  3e-01  1e-04\n",
      "10: -1.3257e+00 -1.3259e+00  6e-02  3e-03  1e-01  5e-05\n",
      "11: -1.3303e+00 -1.3304e+00  3e-02  2e-03  7e-02  3e-05\n",
      "12: -1.3349e+00 -1.3349e+00  4e-03  2e-04  9e-03  4e-06\n",
      "13: -1.3355e+00 -1.3355e+00  8e-04  5e-05  2e-03  8e-07\n",
      "14: -1.3357e+00 -1.3357e+00  9e-05  6e-06  2e-04  8e-08\n",
      "15: -1.3357e+00 -1.3357e+00  1e-05  8e-07  3e-05  1e-08\n",
      "16: -1.3357e+00 -1.3357e+00  6e-07  4e-08  1e-06  6e-10\n",
      "Optimal solution found.\n",
      "------------[ CVXOPT ]-------------\n",
      "Solver claims optimal solution for feasible problem.\n",
      "Applying the solution.\n",
      "Applied solution is primal feasible.\n",
      "Search 5.9e+00s, solve 6.1e+00s, overhead 4%.\n",
      "=============[ PICOS ]=============\n"
     ]
    }
   ],
   "source": [
    "# For m = 30, 50, 80, 100, run this cell\n",
    "solution = D_MAXDET.solve(solver='cvxopt', verbosity=1, \n",
    "                          abs_bnb_opt_tol     = 1e-04,\n",
    "                          abs_dual_fsb_tol    = 1e-05,\n",
    "                          abs_ipm_opt_tol     = 1e-06,\n",
    "                          abs_prim_fsb_tol    = 1e-05,\n",
    "                          rel_dual_fsb_tol    = 1e-05,\n",
    "                          rel_ipm_opt_tol     = 1e-06,\n",
    "                          rel_prim_fsb_tol    = 1e-05)"
   ]
  },
  {
   "cell_type": "code",
   "execution_count": 84,
   "metadata": {},
   "outputs": [
    {
     "data": {
      "text/plain": [
       "-8.683862625093788"
      ]
     },
     "execution_count": 84,
     "metadata": {},
     "output_type": "execute_result"
    }
   ],
   "source": [
    "minf = D_optimal_func(np.array(w))[0]\n",
    "minf"
   ]
  },
  {
   "cell_type": "markdown",
   "metadata": {},
   "source": [
    "## For m = 200, 300, 400, 500, solve by CVXPY"
   ]
  },
  {
   "cell_type": "code",
   "execution_count": 58,
   "metadata": {},
   "outputs": [
    {
     "data": {
      "text/plain": [
       "17.72332313037945"
      ]
     },
     "execution_count": 58,
     "metadata": {},
     "output_type": "execute_result"
    }
   ],
   "source": [
    "x = cp.Variable(n)\n",
    "obj = cp.Minimize(-cp.log_det(Q @ cp.diag(x) @ Q.T))\n",
    "cst = [cp.sum(x) == 1, x>=0]\n",
    "prob = cp.Problem(obj, cst)\n",
    "prob.solve()"
   ]
  },
  {
   "cell_type": "code",
   "execution_count": 59,
   "metadata": {},
   "outputs": [],
   "source": [
    "minf = prob.value"
   ]
  },
  {
   "cell_type": "markdown",
   "metadata": {},
   "source": [
    "## Frank-Wolfe (FW) "
   ]
  },
  {
   "cell_type": "code",
   "execution_count": 79,
   "metadata": {},
   "outputs": [
    {
     "name": "stdout",
     "output_type": "stream",
     "text": [
      "[   0]  f:5.0255e+01  t:0.0125\n",
      "[10000]  f:4.7918e+01  t:3.2354\n",
      "[20000]  f:4.7873e+01  t:6.2868\n",
      "[30000]  f:4.7854e+01  t:9.1339\n",
      "[40000]  f:4.7844e+01  t:12.1457\n",
      "------------------\n",
      "iterations: 49998\n",
      "solution time: 15.1037s\n",
      "current function value: 47.83715218252195\n"
     ]
    }
   ],
   "source": [
    "fw = D_opt_FW(Q, x0, minf, eps=1e-7, maxitrs=50000, verbose=True, verbskip=10000)"
   ]
  },
  {
   "cell_type": "markdown",
   "metadata": {},
   "source": [
    "## FW-away"
   ]
  },
  {
   "cell_type": "code",
   "execution_count": 80,
   "metadata": {},
   "outputs": [
    {
     "name": "stdout",
     "output_type": "stream",
     "text": [
      "\n",
      "Solving D-opt design problem using Frank-Wolfe method with away steps\n",
      "     k      F(x)     pos_slack   neg_slack    time\n",
      "     0  5.0255e+01   2.216e-01   2.171e-01     0.0\n",
      "  1000  4.7808e+01   6.676e-03   6.678e-03     0.9\n",
      "------------------\n",
      "iterations: 1459\n",
      "solution time: 1.3543s\n",
      "current function value: 47.804716416199525\n"
     ]
    }
   ],
   "source": [
    "fa = D_opt_FW_away(Q, x0, minf, eps=1e-7, maxitrs=50000, verbose=True, verbskip=1000)"
   ]
  },
  {
   "cell_type": "markdown",
   "metadata": {},
   "source": [
    "## AEPG\n",
    "\n",
    "- m = 10, c = 9, eta = 0.08, tol = 1e-7\n",
    "- m = 30, c = 10, eta = 0.02, tol = 1e-7\n",
    "- m = 50, c = 10, eta = 0.01, tol = 1e-7\n",
    "- m = 80, c = 7, eta = 0.01, tol = 1e-7\n",
    "- m = 100, c = 7, eta = 0.01, tol = 1e-7\n",
    "- m = 200, c = 1, eta = 0.009, tol = 1e-7\n",
    "- m = 300, c = 1, eta = 0.006, tol = 1e-7\n",
    "- m = 400, c = 1, eta = 0.005, tol = 1e-7\n",
    "- m = 400, c = 1, eta = 0.00, tol = 1e-7"
   ]
  },
  {
   "cell_type": "code",
   "execution_count": 68,
   "metadata": {},
   "outputs": [
    {
     "name": "stdout",
     "output_type": "stream",
     "text": [
      "[   0], f: 1.9583e+01, t:0.0295\n",
      "[ 200], f: 1.7723e+01, t:1.7687\n",
      "[ 400], f: 1.7723e+01, t:3.6638\n",
      "[ 600], f: 1.7723e+01, t:5.5672\n",
      "[ 800], f: 1.7723e+01, t:7.3252\n",
      "------------------\n",
      "iterations: 998\n",
      "solution time: 9.0575s\n",
      "current function value: 17.723297898320588\n"
     ]
    }
   ],
   "source": [
    "eta = 0.009\n",
    "c = 1\n",
    "eng = runner(x0, D_optimal_func, minf, aeng, \n",
    "                       p=dict(eta=eta, c=c, lambda1=1, maxiter=1000, tol=1e-7, verbose=True, gap=200))"
   ]
  },
  {
   "cell_type": "code",
   "execution_count": 70,
   "metadata": {},
   "outputs": [],
   "source": [
    "# save the dataset and prameters to repeat the results given in the paper.\n",
    "# np.save('Doptimal/D_n1000_m200.npy', dict(aeng=eng, fw=fw, fa=fa, args = dict(minf=minf, Q=Q, eta=eta, c=c)))"
   ]
  },
  {
   "cell_type": "markdown",
   "metadata": {},
   "source": [
    "# Load experimental results in the paper directly"
   ]
  },
  {
   "cell_type": "code",
   "execution_count": 38,
   "metadata": {},
   "outputs": [],
   "source": [
    "n, m = 1000, 300   # n test vectors of dimension m\n",
    "dd = np.load('Doptimal/D_n{}_m{}.npy'.format(n, m), allow_pickle=True)"
   ]
  },
  {
   "cell_type": "code",
   "execution_count": 131,
   "metadata": {},
   "outputs": [],
   "source": [
    "# For m = 10, 30, 50, 80, 100, solution time of PICOS (interior point method)\n",
    "# dd.item()['ipm']"
   ]
  },
  {
   "cell_type": "code",
   "execution_count": 78,
   "metadata": {},
   "outputs": [],
   "source": [
    "eng = dd.item()['aeng']\n",
    "fw = dd.item()['fw']\n",
    "fa = dd.item()['fa']\n",
    "minf = dd.item()['args']['minf']"
   ]
  },
  {
   "cell_type": "code",
   "execution_count": 81,
   "metadata": {},
   "outputs": [
    {
     "data": {
      "image/png": "[encoded data removed]",
      "text/plain": [
       "<Figure size 288x288 with 1 Axes>"
      ]
     },
     "metadata": {
      "needs_background": "light"
     },
     "output_type": "display_data"
    }
   ],
   "source": [
    "tt = 0\n",
    "plt.figure(1, figsize=(4,4))\n",
    "\n",
    "plt.plot(eng['ts'][tt:], eng['fs'][tt:]-minf, 'r', lw=1, label='AEPG')\n",
    "plt.plot(fw['ts'][tt:], fw['fs'][tt:]-minf, 'b', lw=1, label='FW')\n",
    "plt.plot(fa['ts'][tt:], fa['fs'][tt:]-minf, 'g', lw=1, label='FW-away')\n",
    "\n",
    "plt.yscale('log')\n",
    "plt.xlim([0,5])\n",
    "plt.xlabel('Time (sec)')\n",
    "plt.ylabel(r'$L(\\theta)-L^*$')\n",
    "plt.grid()\n",
    "plt.legend(loc='lower right')\n",
    "plt.tight_layout()\n",
    "\n",
    "# plt.savefig('D_n1000_m200.png', dpi=300)"
   ]
  },
  {
   "cell_type": "markdown",
   "metadata": {},
   "source": [
    "#### "
   ]
  },
  {
   "cell_type": "code",
   "execution_count": null,
   "metadata": {},
   "outputs": [],
   "source": []
  }
 ],
 "metadata": {
  "kernelspec": {
   "display_name": "Python 3",
   "language": "python",
   "name": "python3"
  },
  "language_info": {
   "codemirror_mode": {
    "name": "ipython",
    "version": 3
   },
   "file_extension": ".py",
   "mimetype": "text/x-python",
   "name": "python",
   "nbconvert_exporter": "python",
   "pygments_lexer": "ipython3",
   "version": "3.7.9"
  }
 },
 "nbformat": 4,
 "nbformat_minor": 4
}
